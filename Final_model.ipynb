{
  "nbformat": 4,
  "nbformat_minor": 0,
  "metadata": {
    "colab": {
      "name": "Final_model.ipynb",
      "provenance": [],
      "toc_visible": true,
      "authorship_tag": "ABX9TyN+yQgCLfq31KKO3agT+0LF",
      "include_colab_link": true
    },
    "kernelspec": {
      "name": "python3",
      "display_name": "Python 3"
    }
  },
  "cells": [
    {
      "cell_type": "markdown",
      "metadata": {
        "id": "view-in-github",
        "colab_type": "text"
      },
      "source": [
        "<a href=\"https://colab.research.google.com/github/tahseenbt/Predicting-a-pulsar-star/blob/main/Final_model.ipynb\" target=\"_parent\"><img src=\"https://colab.research.google.com/assets/colab-badge.svg\" alt=\"Open In Colab\"/></a>"
      ]
    },
    {
      "cell_type": "markdown",
      "metadata": {
        "id": "1Qyg6FM0aE75"
      },
      "source": [
        "# **Machine learning model chosen after running gridsearch and finding the best hyperparameters:**"
      ]
    },
    {
      "cell_type": "markdown",
      "metadata": {
        "id": "gU0eYd-X1cZ_"
      },
      "source": [
        "Import all the necessary modules"
      ]
    },
    {
      "cell_type": "code",
      "metadata": {
        "id": "OG_uynUZaA_A"
      },
      "source": [
        "import pandas as pd\n",
        "import numpy as np\n",
        "from sklearn import model_selection, svm\n",
        "import pickle"
      ],
      "execution_count": 77,
      "outputs": []
    },
    {
      "cell_type": "markdown",
      "metadata": {
        "id": "C_EkVR-11aUn"
      },
      "source": [
        "Download the csv dataset"
      ]
    },
    {
      "cell_type": "code",
      "metadata": {
        "id": "RrVuAhG4bcTJ",
        "outputId": "b98b3591-3b64-4a0a-beb2-3943d43cf505",
        "colab": {
          "base_uri": "https://localhost:8080/"
        }
      },
      "source": [
        "!wget https://raw.githubusercontent.com/tahseenbt/Predicting-a-pulsar-star/main/data.csv"
      ],
      "execution_count": 2,
      "outputs": [
        {
          "output_type": "stream",
          "text": [
            "--2020-11-14 01:45:58--  https://raw.githubusercontent.com/tahseenbt/Predicting-a-pulsar-star/main/data.csv\n",
            "Resolving raw.githubusercontent.com (raw.githubusercontent.com)... 151.101.0.133, 151.101.64.133, 151.101.128.133, ...\n",
            "Connecting to raw.githubusercontent.com (raw.githubusercontent.com)|151.101.0.133|:443... connected.\n",
            "HTTP request sent, awaiting response... 200 OK\n",
            "Length: 1730114 (1.6M) [text/plain]\n",
            "Saving to: ‘data.csv’\n",
            "\n",
            "data.csv            100%[===================>]   1.65M  --.-KB/s    in 0.1s    \n",
            "\n",
            "2020-11-14 01:45:58 (16.9 MB/s) - ‘data.csv’ saved [1730114/1730114]\n",
            "\n"
          ],
          "name": "stdout"
        }
      ]
    },
    {
      "cell_type": "markdown",
      "metadata": {
        "id": "yGEaVSfD1XGn"
      },
      "source": [
        "Read the data using pandas and extract the features and the class"
      ]
    },
    {
      "cell_type": "code",
      "metadata": {
        "id": "I_5122pybjt6"
      },
      "source": [
        "data = pd.read_csv('data.csv', header=None)\n",
        "X = data.iloc[:,0:8]\n",
        "y = data.iloc[:,8]"
      ],
      "execution_count": 91,
      "outputs": []
    },
    {
      "cell_type": "markdown",
      "metadata": {
        "id": "sV9dLZgI1TU-"
      },
      "source": [
        "Split the data into training and testing datasets"
      ]
    },
    {
      "cell_type": "code",
      "metadata": {
        "id": "ozmcTjOodOqi"
      },
      "source": [
        "X_train, X_test, y_train, y_test = model_selection.train_test_split(X, np.ravel(y), test_size=0.1)"
      ],
      "execution_count": 92,
      "outputs": []
    },
    {
      "cell_type": "markdown",
      "metadata": {
        "id": "yVmGvsxC1O6m"
      },
      "source": [
        "Train and save the model"
      ]
    },
    {
      "cell_type": "code",
      "metadata": {
        "id": "xuD8bez3dY4h"
      },
      "source": [
        "svm_clf = svm.SVC(C=1000, gamma=0.0001, kernel='rbf')\n",
        "svm_clf.fit(X_train, y_train)\n",
        "\n",
        "pickle.dump(svm_clf, open(\"SVM_model\",'wb'))"
      ],
      "execution_count": 93,
      "outputs": []
    },
    {
      "cell_type": "markdown",
      "metadata": {
        "id": "lUYvG6U21HXg"
      },
      "source": [
        "Load the model and run the model on the test dataset saved earlier to find the accuracy percentage."
      ]
    },
    {
      "cell_type": "code",
      "metadata": {
        "id": "Tnu7FXFBhYnT",
        "outputId": "3ccdd355-e459-4906-bcb6-5a11e5f069cb",
        "colab": {
          "base_uri": "https://localhost:8080/"
        }
      },
      "source": [
        "loaded_model = pickle.load(open(\"SVM_model\",'rb'))\n",
        "print(f\"{loaded_model.score(X_test,y_test)*100}%\")"
      ],
      "execution_count": 94,
      "outputs": [
        {
          "output_type": "stream",
          "text": [
            "98.2122905027933%\n"
          ],
          "name": "stdout"
        }
      ]
    }
  ]
}
